{
 "cells": [
  {
   "cell_type": "code",
   "execution_count": null,
   "id": "0f54c463",
   "metadata": {},
   "outputs": [],
   "source": [
    "import pandas as pd # read Dataframe \n",
    "import numpy as np # for numerical operations\n",
    "from sklearn.preprocessing import StandardScaler # to normalize data"
   ]
  },
  {
   "cell_type": "code",
   "execution_count": null,
   "id": "37b1692d",
   "metadata": {},
   "outputs": [],
   "source": [
    "# Load TUGDA data\n",
    "gdsc_dataset = pd.read_csv('./data//TUGDA/GDSCDA_fpkm_AUC_all_drugs.zip', index_col=0)\n",
    "drug_list = gdsc_dataset.columns[1780:]\n",
    "\n",
    "# Load final lv2 edges dataframe from Network_Construction.py\n",
    "lvl2_edges_df = pd.read_csv('./data/lv2_edges.csv', index_col=0)"
   ]
  },
  {
   "cell_type": "markdown",
   "id": "9647c125",
   "metadata": {},
   "source": [
    "### 1.Count-based\n",
    "\n",
    "- How many genes of a drug occur in a specific pathway\n",
    "- Example: Drug A has 3 genes in pathway X, then pathway X would be assigned a value of 3"
   ]
  },
  {
   "cell_type": "code",
   "execution_count": null,
   "id": "7c05a161",
   "metadata": {},
   "outputs": [],
   "source": [
    "# Count the number of unique genes (target) per source-drug combination\n",
    "source_drug_gene_counts = (\n",
    "    lvl2_edges_df.groupby(['source', 'drug'])['target']\n",
    "    .nunique()\n",
    "    .reset_index(name='gene_count')\n",
    ")\n",
    "\n",
    "# Pivot the data to create a matrix with drugs as rows and sources as columns\n",
    "gene_count_pivot = source_drug_gene_counts.pivot(index='drug', columns='source', values='gene_count')\n",
    "gene_count_pivot = gene_count_pivot.reindex(index=drug_list)\n",
    "gene_count_pivot = gene_count_pivot.fillna(0)\n",
    "\n",
    "# Apply log transformation (log(x + 1)) to handle zero values and reduce skewness\n",
    "# Perform Z-score normalization for each column \n",
    "gene_count_log = np.log1p(gene_count_pivot)\n",
    "scaler = StandardScaler()\n",
    "gene_count_zscore = pd.DataFrame(\n",
    "    scaler.fit_transform(gene_count_log),\n",
    "    index=gene_count_log.index,\n",
    "    columns=gene_count_log.columns\n",
    ")\n",
    "\n",
    "gene_count_zscore.to_csv(\"TUGDA/data/Pathways/gene_count_zscore.csv\")"
   ]
  },
  {
   "cell_type": "markdown",
   "id": "c5c216aa",
   "metadata": {},
   "source": [
    "### 2. Relative frequency\n",
    "\n",
    "- How many genes of a drug occur in a specific pathway\n",
    "- Example: Drug A has 3 genes in pathway X and a total of 6 genes in all pathways, then pathway X would be assigned a value of 3/6."
   ]
  },
  {
   "cell_type": "code",
   "execution_count": null,
   "id": "6962eca8",
   "metadata": {},
   "outputs": [],
   "source": [
    "# Count the number of unique genes (target) per source-drug combination\n",
    "source_drug_gene_counts = (\n",
    "    lvl2_edges_df.groupby(['source', 'drug'])['target']\n",
    "    .nunique()\n",
    "    .reset_index(name='gene_count')\n",
    ")\n",
    "\n",
    "# Total number of unique genes per drug\n",
    "total_gene_counts_per_drug = (\n",
    "    lvl2_edges_df.groupby('drug')['target']\n",
    "    .nunique()\n",
    "    .reset_index(name='total_genes_per_drug')\n",
    ")\n",
    "\n",
    "# Merge\n",
    "relative_freq_df = pd.merge(source_drug_gene_counts, total_gene_counts_per_drug, on='drug')\n",
    "relative_freq_df['relative_frequency'] = relative_freq_df['gene_count'] / relative_freq_df['total_genes_per_drug']\n",
    "\n",
    "# Create pivot table: drugs as rows, pathways as columns\n",
    "pivot_matrix = relative_freq_df.pivot(index='drug', columns='source', values='relative_frequency')\n",
    "pivot_matrix = pivot_matrix.reindex(index=drug_list)\n",
    "\n",
    "# Avoid NaN\n",
    "pivot_matrix = pivot_matrix.fillna(0)\n",
    "pivot_matrix.to_csv(\"TUGDA/data/Pathways/gene_frequency.csv\")"
   ]
  },
  {
   "cell_type": "markdown",
   "id": "7533df99",
   "metadata": {},
   "source": [
    "### 3. Expression-based weighting\n",
    "\n",
    "- For each drug pathway combination, you sum the mean expression values of all genes that occur in this combination\n",
    "- higher expression = higher weight for the gene in the pathway"
   ]
  },
  {
   "cell_type": "code",
   "execution_count": null,
   "id": "f168c173",
   "metadata": {},
   "outputs": [],
   "source": [
    "# cell-line dataset:\n",
    "gdsc_dataset = pd.read_csv('./data/TUGDA/GDSCDA_fpkm_AUC_all_drugs.zip', index_col=0)\n",
    "gene_expression = gdsc_dataset.iloc[:, :1780].mean()\n",
    "\n",
    "# Add the weights based on gene expression to lvl2_edges_df\n",
    "lvl2_edges_df['expression_weight'] = lvl2_edges_df['target'].map(gene_expression)\n",
    "agg_weights = lvl2_edges_df.groupby(['drug', 'source'])['expression_weight'].sum().reset_index()\n",
    "\n",
    "# Create pivot table: drugs as rows, pathways as columns\n",
    "agg_weights = agg_weights.pivot(index='drug', columns='source', values='expression_weight')\n",
    "agg_weights = agg_weights.reindex(index=drug_list)\n",
    "agg_weights = agg_weights.fillna(0)\n",
    "\n",
    "# Apply log transformation (log(x + 1)) to handle zero values and reduce skewness\n",
    "# Perform Z-score normalization for each column \n",
    "\n",
    "agg_weights_log = np.log1p(agg_weights)\n",
    "agg_weights_zscore = pd.DataFrame(\n",
    "    scaler.fit_transform(agg_weights_log),\n",
    "    index=agg_weights_log.index,\n",
    "    columns=agg_weights_log.columns\n",
    ")\n",
    "\n",
    "agg_weights_zscore.to_csv(\"TUGDA/data/Pathways/pathway_weights_zscore.csv\")"
   ]
  }
 ],
 "metadata": {
  "kernelspec": {
   "display_name": "base",
   "language": "python",
   "name": "python3"
  },
  "language_info": {
   "codemirror_mode": {
    "name": "ipython",
    "version": 3
   },
   "file_extension": ".py",
   "mimetype": "text/x-python",
   "name": "python",
   "nbconvert_exporter": "python",
   "pygments_lexer": "ipython3",
   "version": "3.13.2"
  }
 },
 "nbformat": 4,
 "nbformat_minor": 5
}
