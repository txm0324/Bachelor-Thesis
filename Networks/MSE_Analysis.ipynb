{
 "cells": [
  {
   "cell_type": "markdown",
   "id": "d7870012",
   "metadata": {},
   "source": [
    "# Analysis MTL-Approach"
   ]
  },
  {
   "cell_type": "markdown",
   "id": "9209517c",
   "metadata": {},
   "source": [
    "In this analysis, we examine the drugs with the greatest differences in MSE and investigate how these differences correlate with the number of interactions.\n",
    "- Does a high number of interactions influence the median MSE?\n",
    "----"
   ]
  },
  {
   "cell_type": "markdown",
   "id": "fd969764",
   "metadata": {},
   "source": [
    "### Which drugs have the highest median MSE values?"
   ]
  },
  {
   "cell_type": "code",
   "execution_count": null,
   "id": "3d694599",
   "metadata": {},
   "outputs": [],
   "source": [
    "import numpy as np # for Array \n",
    "import pandas as pd # for DataFrames\n",
    "\n",
    "import matplotlib.pyplot as plt # to plot"
   ]
  },
  {
   "cell_type": "code",
   "execution_count": null,
   "id": "5056ff8e",
   "metadata": {},
   "outputs": [],
   "source": [
    "# Load MSE files with baseline and naive approach\n",
    "task_mses = np.loadtxt(\"task_mses.csv\", delimiter=\",\", skiprows=1)  # skip header\n",
    "task_mses_gene = np.loadtxt(\"task_mses_gene.csv\", delimiter=\",\", skiprows=1)  # skip header\n",
    "task_mses_pathway = np.loadtxt(\"task_mses_pathway.csv\", delimiter=\",\", skiprows=1)  # skip header\n",
    "task_mses_combination = np.loadtxt(\"task_mses_combination.csv\", delimiter=\",\", skiprows=1)  # skip header\n",
    "\n",
    "# Get index over drug names\n",
    "gdsc_dataset = pd.read_csv('/sybig/home/tmu/TUGDA/data/GDSCDA_fpkm_AUC_all_drugs.zip', index_col=0)\n",
    "drug_list = gdsc_dataset.columns[1780:]"
   ]
  },
  {
   "cell_type": "code",
   "execution_count": null,
   "id": "cc73cdd4",
   "metadata": {},
   "outputs": [],
   "source": [
    "# Create an DataFrame with all results\n",
    "df_mse = pd.DataFrame({\n",
    "    \"Drug\": drug_list,\n",
    "    \"MSE_baseline\": task_mses,\n",
    "    \"MSE_gene\": task_mses_gene,\n",
    "    \"MSE_pathway\": task_mses_pathway,\n",
    "    \"MSE_combination\": task_mses_combination\n",
    "})\n",
    "\n",
    "# Set \"Drug\"-column as index \n",
    "df_mse.set_index(\"Drug\", inplace=True)"
   ]
  },
  {
   "cell_type": "code",
   "execution_count": null,
   "id": "a2e6914d",
   "metadata": {},
   "outputs": [],
   "source": [
    "# Sort each column with Drugs with highest MSE \n",
    "for col in df_mse.columns:\n",
    "    df_mse = df_mse.sort_values(by=col, ascending=False)"
   ]
  },
  {
   "cell_type": "code",
   "execution_count": null,
   "id": "6d4381c2",
   "metadata": {},
   "outputs": [],
   "source": [
    "top15 = df_mse.head(15)\n",
    "print(top15)"
   ]
  },
  {
   "cell_type": "code",
   "execution_count": null,
   "id": "86a6d069",
   "metadata": {},
   "outputs": [],
   "source": [
    "# Anzahl der Top-N Drugs pro Ansatz\n",
    "top_n = 15\n",
    "\n",
    "# 1. Finde die Top-N Drugs mit höchstem MSE pro Ansatz\n",
    "top_drug_sets = []\n",
    "for col in df_mse.columns:\n",
    "    top_drugs = df_mse[col].sort_values(ascending=False).head(top_n).index\n",
    "    top_drug_sets.append(set(top_drugs))\n",
    "\n",
    "# 2. Schnittmenge aller Top-N-Drogensätze\n",
    "common_top_drugs = set.intersection(*top_drug_sets)\n",
    "print(f\"Gemeinsame Top-{top_n}-Drugs über alle Ansätze: {len(common_top_drugs)} gefunden\")\n",
    "\n",
    "# 3. Filtere den DataFrame auf diese Drugs\n",
    "df_common = df_mse.loc[common_top_drugs]\n",
    "\n",
    "# 4. Sortiere nach einem festen Kriterium (z. B. Mittelwert)\n",
    "df_common = df_common.loc[df_common.mean(axis=1).sort_values(ascending=False).index]\n",
    "\n",
    "# 5. Plotten\n",
    "df_common.plot(kind=\"bar\", figsize=(14, 6))\n",
    "plt.title(f\"MSE comparison for common Top-{top_n} Drugs\")\n",
    "plt.ylabel(\"MSE\")\n",
    "plt.xlabel(\"Drug\")\n",
    "plt.xticks(rotation=45, ha=\"right\")\n",
    "plt.legend(title=\"Approach\")\n",
    "plt.tight_layout()\n",
    "plt.show()\n"
   ]
  },
  {
   "cell_type": "markdown",
   "id": "bcd42dab",
   "metadata": {},
   "source": [
    "### How many interactions do the drugs with the highest MSE have?"
   ]
  },
  {
   "cell_type": "code",
   "execution_count": null,
   "id": "04ce609a",
   "metadata": {},
   "outputs": [],
   "source": [
    "dgi_matrix = pd.read_csv(\"./data/global_gene_interaction_matrix.csv\", index_col=0).astype(np.float32)\n",
    "pathway_matrix = pd.read_csv(\"./data/drug_pathway_binary_matrix.csv\", index_col=0).astype(np.float32)"
   ]
  },
  {
   "cell_type": "markdown",
   "id": "d2a9bc4c",
   "metadata": {},
   "source": [
    "# Analysis DA-Approach"
   ]
  },
  {
   "cell_type": "code",
   "execution_count": null,
   "id": "a1c677c7",
   "metadata": {},
   "outputs": [],
   "source": [
    "# Load each DataFrame with baseline and naive approach\n",
    "preds_AUC = pd.read_csv('./results/preds_AUC.csv', index_col=0)\n",
    "preds_AUC_gene = pd.read_csv('./results/preds_AUC_naiv_gene_level.csv', index_col=0)\n",
    "preds_AUC_pathway = pd.read_csv('./results/preds_AUC_naiv_pathway_level.csv', index_col=0)\n",
    "preds_AUC_combination = pd.read_csv('./results/preds_AUC_naiv_combination.csv', index_col=0)"
   ]
  },
  {
   "cell_type": "code",
   "execution_count": null,
   "id": "a0f9ed1e",
   "metadata": {},
   "outputs": [],
   "source": [
    "# Add code for correlation "
   ]
  }
 ],
 "metadata": {
  "language_info": {
   "name": "python"
  }
 },
 "nbformat": 4,
 "nbformat_minor": 5
}
