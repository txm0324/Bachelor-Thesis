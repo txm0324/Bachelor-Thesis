{
 "cells": [
  {
   "cell_type": "markdown",
   "id": "d631a3ac",
   "metadata": {},
   "source": [
    "# Titel"
   ]
  },
  {
   "cell_type": "markdown",
   "id": "f5f9f38c",
   "metadata": {},
   "source": [
    "Explanation ..."
   ]
  },
  {
   "cell_type": "markdown",
   "id": "3fb0a830",
   "metadata": {},
   "source": [
    "# 1. Drug-Gene-Interactions (DGI)"
   ]
  },
  {
   "cell_type": "markdown",
   "id": "6b1c9ec6",
   "metadata": {},
   "source": [
    "Which databases and how to download each file"
   ]
  },
  {
   "cell_type": "code",
   "execution_count": null,
   "id": "bd16ac27",
   "metadata": {},
   "outputs": [],
   "source": [
    "!pip install chembl_webresource_client"
   ]
  },
  {
   "cell_type": "code",
   "execution_count": 2,
   "id": "3d32804d",
   "metadata": {},
   "outputs": [],
   "source": [
    "import pandas as pd\n",
    "\n",
    "# BioGrid\n",
    "import requests # to get UniProt Id\n",
    "import re\n",
    "import numpy as np\n",
    "\n",
    "# ChEMBL \n",
    "from concurrent.futures import ThreadPoolExecutor, as_completed\n",
    "# from chembl_webresource_client.new_client import new_client  # type: ignore\n",
    "import time\n",
    "from tqdm import tqdm\n",
    "import requests"
   ]
  },
  {
   "cell_type": "code",
   "execution_count": null,
   "id": "dca8892a",
   "metadata": {},
   "outputs": [],
   "source": [
    "# cell-line and drug sample dataset of TUGDA (GDSC)\n",
    "# gdsc_dataset = pd.read_csv('/Users/tm03/Desktop/TUGDA_1/data/GDSCDA_fpkm_AUC_all_drugs.zip', index_col=0)\n",
    "gdsc_dataset = pd.read_csv('/sybig/home/tmu/TUGDA/data/GDSCDA_fpkm_AUC_all_drugs.zip', index_col=0)\n",
    "gene_list = gdsc_dataset.columns[0:1780]\n",
    "drug_list = gdsc_dataset.columns[1780:]\n",
    "\n",
    "# to convert the same output as in dgidb\n",
    "drug_list_upper = set(drug_list.str.upper())"
   ]
  },
  {
   "cell_type": "markdown",
   "id": "76af83e2",
   "metadata": {},
   "source": [
    "### 1.1 DGIdb"
   ]
  },
  {
   "cell_type": "markdown",
   "id": "48b454c6",
   "metadata": {},
   "source": [
    "Data Source: https://dgidb.org/downloads \n",
    "- under downloads: Date: latest and interactions.tsv\n",
    "\n",
    "<u>Gene and Drug related columns:</u>\n",
    "- **gene_claim_name**: name of the gene as reported by the source database\n",
    "- **gene_concept_id**: standardized gene ID, typically from the HGNC (HUGO Gene Nomenclature Committee)\n",
    "- **gene_name**: official gene name (usually the same as **gene_claim_name**, but standardized)\n",
    "- **drug_claim_name**: the name of the drug as reported by the source database\n",
    "- **drug_concept_id**:  A standardized drug ID, typically from the HGNC (HUGO Gene Nomenclature Committee)\n",
    "- **drug_name**: official drug name (usually the same as **drug_claim_name**, but standardized)\n",
    "\n",
    "<u>Source and Interaction related columns:</u>\n",
    "- **interaction_source_db_name**: name of the database providing the interaction data (DTC: Drug Target Commons)\n",
    "- **interaction_source_db_version**: elase date of the database \n",
    "- **interaction_type**: type of biological interaction \n",
    "- **interaction_score**: numerical score representing the strength or reliability of the interaction\n",
    "\n",
    "<u>Clinical categories:</u>\n",
    "- **approved**: Is the drug approved by a regulatory agency?\n",
    "- **immunitherapy**: Is it used in immuntherapy?\n",
    "- **anti_neoplastic**: Is it an anti-cancer-drug (used against neoplasms?)"
   ]
  },
  {
   "cell_type": "code",
   "execution_count": 5,
   "id": "e85e8d5a",
   "metadata": {},
   "outputs": [
    {
     "ename": "NameError",
     "evalue": "name 'gene_list' is not defined",
     "output_type": "error",
     "traceback": [
      "\u001b[31m---------------------------------------------------------------------------\u001b[39m",
      "\u001b[31mNameError\u001b[39m                                 Traceback (most recent call last)",
      "\u001b[36mCell\u001b[39m\u001b[36m \u001b[39m\u001b[32mIn[5]\u001b[39m\u001b[32m, line 4\u001b[39m\n\u001b[32m      1\u001b[39m dgidb_df = pd.read_csv(\u001b[33m\"\u001b[39m\u001b[33mraw_data/interactions.tsv\u001b[39m\u001b[33m\"\u001b[39m, sep=\u001b[33m\"\u001b[39m\u001b[38;5;130;01m\\t\u001b[39;00m\u001b[33m\"\u001b[39m)\n\u001b[32m      3\u001b[39m \u001b[38;5;66;03m# Filters DGIdb drug-gene interactions matching the gene and drug list of TUGDA\u001b[39;00m\n\u001b[32m----> \u001b[39m\u001b[32m4\u001b[39m dgidb_filtered = dgidb_df[dgidb_df[\u001b[33m'\u001b[39m\u001b[33mgene_name\u001b[39m\u001b[33m'\u001b[39m].isin(\u001b[43mgene_list\u001b[49m) & dgidb_df[\u001b[33m'\u001b[39m\u001b[33mdrug_name\u001b[39m\u001b[33m'\u001b[39m].isin(drug_list_upper)].copy()\n\u001b[32m      6\u001b[39m \u001b[38;5;66;03m# Map original drug name to uppercase\u001b[39;00m\n\u001b[32m      7\u001b[39m drug_name_map = {drug.upper(): drug \u001b[38;5;28;01mfor\u001b[39;00m drug \u001b[38;5;129;01min\u001b[39;00m drug_list}\n",
      "\u001b[31mNameError\u001b[39m: name 'gene_list' is not defined"
     ]
    }
   ],
   "source": [
    "dgidb_df = pd.read_csv(\"raw_data/interactions.tsv\", sep=\"\\t\")\n",
    "\n",
    "# Filters DGIdb drug-gene interactions matching the gene and drug list of TUGDA\n",
    "dgidb_filtered = dgidb_df[dgidb_df['gene_name'].isin(gene_list) & dgidb_df['drug_name'].isin(drug_list_upper)].copy()\n",
    "\n",
    "# Map original drug name to uppercase\n",
    "drug_name_map = {drug.upper(): drug for drug in drug_list}\n",
    "dgidb_filtered['drug_name'] = dgidb_filtered['drug_name'].str.upper().map(drug_name_map)\n",
    "\n",
    "# remove duplicates (n=337)\n",
    "dgidb_final = dgidb_filtered[['gene_name', 'drug_name']].drop_duplicates()\n",
    "# Final: 1516 Interactions"
   ]
  },
  {
   "cell_type": "code",
   "execution_count": 14,
   "id": "6f8ecc03",
   "metadata": {},
   "outputs": [],
   "source": [
    "dgidb_final.to_csv(\"./results/DGI/dgidb.csv\", index=0)"
   ]
  },
  {
   "cell_type": "markdown",
   "id": "c9952e7c",
   "metadata": {},
   "source": [
    "### 1.2 ChEMBL"
   ]
  },
  {
   "cell_type": "markdown",
   "id": "8c775a22",
   "metadata": {},
   "source": [
    "#### preprocess"
   ]
  },
  {
   "cell_type": "code",
   "execution_count": null,
   "id": "62e8a92e",
   "metadata": {},
   "outputs": [],
   "source": [
    "# Load any file in folder /data_TUGDA directory (e.g. cl_y_test_o_k1.csv)\n",
    "# extract all drug names (expected: 200)\n",
    "# convert drug names to ChEMBL IDs using PubChem's ID exchange service: https://pubchem.ncbi.nlm.nih.gov/idexchange/idexchange.cgi\n",
    "\n",
    "drug_list_df = drug_list.tolist()\n",
    "drug_list_df = pd.DataFrame(drug_list)"
   ]
  },
  {
   "cell_type": "code",
   "execution_count": null,
   "id": "0cac62ab",
   "metadata": {},
   "outputs": [],
   "source": [
    "drug_list_df.to_csv('./data/DGI/ChEMBL/drug_list.csv', header=False, index=False)"
   ]
  },
  {
   "cell_type": "code",
   "execution_count": 32,
   "id": "15084a1e",
   "metadata": {},
   "outputs": [],
   "source": [
    "# Load the output file from PubChem's ID Exchange: maps drug names to ChEMBL IDs\n",
    "drug2chembl = pd.read_csv('./data/DGI/ChEMBL/drug2chembl.txt', sep='\\t', names=['drug_name', 'chembl_id'], header=None)\n",
    "\n",
    "# Identify duplicate entries caused by drug name synonyms or multiple ChEMBL IDs (can happen due to synonyms and records keys in ChEMBL)\n",
    "duplicates = drug2chembl[drug2chembl.duplicated('drug_name', keep=False)]\n",
    "\n",
    "# Manually resolve duplicates for specific drugs by selecting the correct ChEMBL ID\n",
    "allowed_pairs = {\n",
    "    'AZD6738': 'CHEMBL4285417',\n",
    "    'BMS-345541': 'CHEMBL249697',\n",
    "    'EPZ5676': 'CHEMBL3414626',\n",
    "    'Linsitinib': 'CHEMBL1091644',\n",
    "    'Luminespib': 'CHEMBL252164',\n",
    "    'NVP-ADW742': 'CHEMBL399021',\n",
    "    'OSI-027': 'CHEMBL3120215',\n",
    "    'Obatoclax Mesylate': 'CHEMBL2107358',\n",
    "}\n",
    "\n",
    "# Keep only the manually verified ChEMBL ID for each listed drug\n",
    "def keep_entry(row):\n",
    "    drug = row['drug_name']\n",
    "    chembl = row['chembl_id']\n",
    "    if drug in allowed_pairs:\n",
    "        return chembl == allowed_pairs[drug]\n",
    "    return True \n",
    "\n",
    "drug2chembl = drug2chembl[drug2chembl.apply(keep_entry, axis=1)]"
   ]
  },
  {
   "cell_type": "code",
   "execution_count": null,
   "id": "6569dbd9",
   "metadata": {},
   "outputs": [],
   "source": [
    "# Identify drugs without assigned ChEMBL ID \n",
    "non_found_chembl = drug2chembl[drug2chembl['chembl_id'].isna()]\n",
    "\n",
    "# Manually search for ChEMBL IDs or known synonyms (based on external sources or manual curation)\n",
    "non_found_chembl_search = [\n",
    "    [\"Oxaliplatin\", \"CHEMBL414804\"], # directly in ChEMBL\n",
    "    [\"Nutlin-3a (-)\", \"CHEMBL191334\"], # directly in ChEMBL\n",
    "    [\"Cisplatin\", \"CHEMBL11359\"], # directly in ChEMBL\n",
    "    [\"BPD-00008900\", None],\n",
    "    [\"BDP-00009066\", None],\n",
    "    [\"JAK1_8709\", None],\n",
    "    [\"IRAK4_4710\", None],\n",
    "    [\"Podophyllotoxin bromide\", \"CHEMBL61\"],\n",
    "    [\"Sinularin\", \"CHEMBL488193\"], # synonym: Flexibilide\n",
    "    [\"VSP34_8731\", None],\n",
    "    [\"KRAS (G12C) Inhibitor-12\", None], \n",
    "    [\"ERK_2440\", None],\n",
    "    [\"Mirin\", \"CHEMBL570841\"],\n",
    "    [\"Picolinici-acid\", \"CHEMBL72628\"], # synonym: 2-PICOLINIC ACID\n",
    "    [\"JAK_8517\", None],\n",
    "    [\"ERK_6604\", None],\n",
    "    [\"PAK_5339\", None],\n",
    "    [\"TAF1_5496\", None],\n",
    "    [\"IGF1R_3801\", None],\n",
    "    [\"CDK9_5576\", None],\n",
    "    [\"CDK9_5038\", None],\n",
    "    [\"ULK1_4989\", None],\n",
    "    [\"IAP_5620\", None],\n",
    "    [\"Eg5_9814\", None],\n",
    "    [\"Cetuximab\", \"CHEMBL1201577\"], # directly in ChEMBL\n",
    "    [\"Bleomycin\", \"CHEMBL403664\"], # directly in ChEMBL\n",
    "    [\"Bleomycin (50 uM)\", None]\n",
    "]\n",
    "\n",
    "# 18 drugs still lack a valid ChEMBL ID\n",
    "\n",
    "# Integrates curated ChEMBL matches, de-duplicates existing mappings, excludes unresolved drugs\n",
    "new_entries = pd.DataFrame(non_found_chembl_search, columns=['drug_name', 'chembl_id'])\n",
    "new_entries = new_entries[new_entries['chembl_id'].notna()]\n",
    "drug2chembl = drug2chembl[~drug2chembl['chembl_id'].isin(new_entries['chembl_id'])]\n",
    "drug2chembl = pd.concat([drug2chembl, new_entries], ignore_index=True)\n",
    "drug2chembl = drug2chembl.dropna(subset=['chembl_id'])"
   ]
  },
  {
   "cell_type": "code",
   "execution_count": 35,
   "id": "8fd95415",
   "metadata": {},
   "outputs": [],
   "source": [
    "drug2chembl.to_csv('./data/DGI/ChEMBL/drug2chembl_final.csv', header=False, index=False)"
   ]
  },
  {
   "cell_type": "markdown",
   "id": "29925398",
   "metadata": {},
   "source": [
    "#### get targets"
   ]
  },
  {
   "cell_type": "code",
   "execution_count": null,
   "id": "af650b86",
   "metadata": {},
   "outputs": [],
   "source": [
    "def fetch_targets_for_id(chembl_id, retries=3, delay=2):\n",
    "    \"\"\"\n",
    "    Takes a list of ChEMBL IDs and returns a DataFrame with organism, pref_name, target_chembl_id,\n",
    "    target_type, UniProt accession and chembl_id via the ChEMBL API.\n",
    "\n",
    "    Filters:\n",
    "    - organism: only Homo sapiens\n",
    "    - target_type: must contain 'Protein'\n",
    "    \n",
    "    Returns:\n",
    "    - pd.DataFrame: columns [organism, pref_name, target_chembl_id, target_type, uniprot_id, chembl_id]\n",
    "    \"\"\"\n",
    "    bioactivities_api = new_client.activity\n",
    "    targets_api = new_client.target\n",
    "\n",
    "    for attempt in range(retries):\n",
    "        try:\n",
    "            bioactivities = bioactivities_api.filter(molecule_chembl_id=chembl_id).only(\"target_chembl_id\")\n",
    "            bioactivities_df = pd.DataFrame.from_records(bioactivities)\n",
    "\n",
    "            if bioactivities_df.empty:\n",
    "                print(f\"No targets found for {chembl_id}\")\n",
    "                return pd.DataFrame([{\n",
    "                    \"target_chembl_id\": None,\n",
    "                    \"pref_name\": None,\n",
    "                    \"organism\": None,\n",
    "                    \"target_type\": None,\n",
    "                    \"uniprot_id\": None,\n",
    "                    \"chembl_id\": chembl_id\n",
    "                }])\n",
    "\n",
    "            target_ids = bioactivities_df[\"target_chembl_id\"].drop_duplicates().tolist()\n",
    "            targets = targets_api.filter(target_chembl_id__in=target_ids).only(\n",
    "                \"target_chembl_id\", \"pref_name\", \"organism\", \"target_type\", \"target_components\"\n",
    "            )\n",
    "\n",
    "            records = []\n",
    "            for target in targets:\n",
    "                # Just targets with organism: Homo sapiens and target_type: PROTEIN\n",
    "                if target.get(\"organism\") != \"Homo sapiens\":\n",
    "                    continue\n",
    "                if \" PROTEIN\" not in target.get(\"target_type\", \"\").upper():\n",
    "                    continue\n",
    "\n",
    "                components = target.get(\"target_components\", [])\n",
    "                uniprot_ids = [comp.get(\"accession\") for comp in components if comp.get(\"accession\")]\n",
    "\n",
    "                for uniprot_id in uniprot_ids:\n",
    "                    records.append({\n",
    "                        \"target_chembl_id\": target.get(\"target_chembl_id\"),\n",
    "                        \"pref_name\": target.get(\"pref_name\"),\n",
    "                        \"organism\": target.get(\"organism\"),\n",
    "                        \"target_type\": target.get(\"target_type\"),\n",
    "                        \"uniprot_id\": uniprot_id,\n",
    "                        \"chembl_id\": chembl_id\n",
    "                    })\n",
    "\n",
    "            if not records:\n",
    "                print(f\"No hits found for targets in Homo sapiens with {chembl_id}\")\n",
    "                return pd.DataFrame([{\n",
    "                    \"target_chembl_id\": None,\n",
    "                    \"pref_name\": None,\n",
    "                    \"organism\": None,\n",
    "                    \"target_type\": None,\n",
    "                    \"uniprot_id\": None,\n",
    "                    \"chembl_id\": chembl_id\n",
    "                }])\n",
    "\n",
    "            return pd.DataFrame(records)\n",
    "\n",
    "        except Exception as e:\n",
    "            print(f\"[{chembl_id}] Error during attempt {attempt + 1}/{retries}: {e}\")\n",
    "            time.sleep(delay)\n",
    "\n",
    "    print(f\"[{chembl_id}] All attempts failed.\")\n",
    "    return pd.DataFrame([{\n",
    "        \"target_chembl_id\": None,\n",
    "        \"pref_name\": None,\n",
    "        \"organism\": None,\n",
    "        \"target_type\": None,\n",
    "        \"uniprot_id\": None,\n",
    "        \"chembl_id\": chembl_id\n",
    "    }])\n",
    "\n",
    "def get_targets_parallel(chembl_ids, max_workers=8):\n",
    "    \"\"\"\n",
    "    Parallelizes the retrieval of targets for a list of ChEMBL IDs.\n",
    "    \"\"\"\n",
    "    results = []\n",
    "    with ThreadPoolExecutor(max_workers=max_workers) as executor:\n",
    "        futures = {executor.submit(fetch_targets_for_id, chembl_id): chembl_id for chembl_id in chembl_ids}\n",
    "\n",
    "        for future in tqdm(as_completed(futures), total=len(futures), desc=\"Parallel processing of ChEMBL IDs\"):\n",
    "            try:\n",
    "                df = future.result()\n",
    "                if not df.empty:\n",
    "                    results.append(df)\n",
    "            except Exception as e:\n",
    "                print(f\"[FUTURE ERROR] Error while processing a thread: {e}\")\n",
    "\n",
    "    if results:\n",
    "        all_targets_df = pd.concat(results, ignore_index=True)\n",
    "        return all_targets_df.drop_duplicates()\n",
    "    else:\n",
    "        print(\"No data collected.\")\n",
    "        return pd.DataFrame()"
   ]
  },
  {
   "cell_type": "code",
   "execution_count": null,
   "id": "fb22fabe",
   "metadata": {},
   "outputs": [],
   "source": [
    "targets_df = get_targets_parallel(drug2chembl[\"chembl_id\"].tolist())\n",
    "targets_df.to_csv(\"./results/DGI/ChEMBL/chembl_targets.csv\") # for later use in PPI"
   ]
  },
  {
   "cell_type": "markdown",
   "id": "6fa57263",
   "metadata": {},
   "source": [
    "No targets found for \n",
    "- CHEMBL1421 (Dasatinib), wondering becuase there are over 3000 bioactivites (maybe to much to catch them all)\n",
    "- CHEMBL1201577 (Cetuximab), no data available for compound \n",
    "\n",
    "No hits found for targets in Homo sapiens with\n",
    "- CHEMBL2349416 (Pyridostatin), just target_type: cellline (11, but only 1 with Homo sapiens as Target Organism)\n",
    "- CHEMBL1969416, just target_type: cellline (55) \n",
    "- CHEMBL924 (Zoledronic acid anhydrous), remark: there are SINGLE PROTEIN as target_type\n",
    "- CHEMBL399907 (Elephantin), just target_type: cellline (3)\n",
    "- CHEMBL488193 (Flexibilide), just target_type: cellline (2)"
   ]
  },
  {
   "cell_type": "code",
   "execution_count": 39,
   "id": "7e97bce5",
   "metadata": {},
   "outputs": [],
   "source": [
    "# new format: drug_name, pref_name, chembl_id (rename to drug_chembl_id), target_chembl_id, uniprot_id (rename too target_uniprot_id), organism, target_type\n",
    "\n",
    "targets_df = pd.read_csv(\"./results/DGI/ChEMBL/chembl_targets.csv\", sep='\\t')\n",
    "\n",
    "targets_df = targets_df.rename(columns={\n",
    "    'chembl_id': 'drug_chembl_id',\n",
    "    'uniprot_id': 'target_uniprot_id'\n",
    "})\n",
    "\n",
    "targets_df = targets_df.merge(\n",
    "    drug2chembl[['chembl_id', 'drug_name']],\n",
    "    left_on='drug_chembl_id',\n",
    "    right_on='chembl_id',\n",
    "    how='left'\n",
    ")\n",
    "\n",
    "targets_df = targets_df[['drug_name', 'pref_name', 'drug_chembl_id', 'target_chembl_id', 'target_uniprot_id', 'organism', 'target_type']]"
   ]
  },
  {
   "cell_type": "markdown",
   "id": "0a3ae6c2",
   "metadata": {},
   "source": [
    "#### get gene_name"
   ]
  },
  {
   "cell_type": "code",
   "execution_count": 40,
   "id": "2839b1a7",
   "metadata": {},
   "outputs": [
    {
     "name": "stderr",
     "output_type": "stream",
     "text": [
      "Loading gene names from UniProt: 100%|██████████| 1148/1148 [13:17<00:00,  1.44it/s]\n"
     ]
    }
   ],
   "source": [
    "# get unique UniProt IDs fromt the DataFrame (fewer API calls by avoiding duplicates and take unique genes)\n",
    "unique_uniprot_ids = targets_df['target_uniprot_id'].dropna().unique()\n",
    "\n",
    "def fetch_gene_name(uniprot_id):\n",
    "    \"\"\"\n",
    "    Takes a list of UniProt IDs and returns a DataFrame with the first hint of the gene_name via the ChEMBL API.\n",
    "\n",
    "    Returns:\n",
    "    - pd.DataFrame: columns [gene_name]\n",
    "    \"\"\"\n",
    "    url = f\"https://rest.uniprot.org/uniprotkb/{uniprot_id}.json\"\n",
    "    try:\n",
    "        response = requests.get(url)\n",
    "        if response.status_code == 200:\n",
    "            data = response.json()\n",
    "            genes = data.get('genes')\n",
    "            if genes and 'geneName' in genes[0]:\n",
    "                return genes[0]['geneName'].get('value')\n",
    "    except:\n",
    "        pass\n",
    "    return None\n",
    "\n",
    "# Map UniProt IDs to gene names using the UniProt API\n",
    "uniprot_to_gene = {}\n",
    "for uniprot_id in tqdm(unique_uniprot_ids, desc=\"Loading gene names from UniProt\"):\n",
    "    gene_name = fetch_gene_name(uniprot_id)\n",
    "    uniprot_to_gene[uniprot_id] = gene_name\n",
    "    time.sleep(0.5)  # Respect API rate limits\n",
    "\n",
    "# Add gene name column to the DataFrame by mapping UniProt IDs\n",
    "targets_df['gene_name'] = targets_df['target_uniprot_id'].map(uniprot_to_gene)"
   ]
  },
  {
   "cell_type": "code",
   "execution_count": null,
   "id": "eca7c514",
   "metadata": {},
   "outputs": [],
   "source": [
    "# Filters ChEMBL drug-gene interactions matching the gene and drug list of TUGDA\n",
    "targets_df = targets_df[['drug_name', 'gene_name']]\n",
    "targets_df = targets_df[targets_df['gene_name'].isin(gene_list)]\n",
    "targets_df = targets_df[targets_df['drug_name'].isin(drug_list)]\n",
    "chembl_final = targets_df\n",
    "# Final: 18622 Interactions"
   ]
  },
  {
   "cell_type": "code",
   "execution_count": 50,
   "id": "9a6b44c2",
   "metadata": {},
   "outputs": [],
   "source": [
    "chembl_final.to_csv(\"./results/DGI/ChEMBL.csv\", index=0)"
   ]
  },
  {
   "cell_type": "markdown",
   "id": "036dd93e",
   "metadata": {},
   "source": [
    "### 1.3 BioGrid"
   ]
  },
  {
   "cell_type": "code",
   "execution_count": null,
   "id": "3a6a1b70",
   "metadata": {},
   "outputs": [],
   "source": [
    "# Download BIOGRID-ALL-4.4.244.tab3.txt (https://downloads.thebiogrid.org/File/BioGRID/Release-Archive/BIOGRID-4.4.246/BIOGRID-CHEMICALS-4.4.246.chemtab.zip)\n",
    "BioGrid_df = pd.read_csv(\"raw_data/BIOGRID-CHEMICALS-4.4.246.chemtab.zip\", compression='zip', sep=\"\\t\", low_memory=False) # low_memory=False disables chunk processing to properly infer data types, which uses more memory but avoids dtype warnings."
   ]
  },
  {
   "cell_type": "code",
   "execution_count": null,
   "id": "8de589db",
   "metadata": {},
   "outputs": [],
   "source": [
    "# Filter BioGRID data to include only interactions involving relevant drugs and genes\n",
    "# Matches are based on official names and known synonyms\n",
    "\n",
    "# Preprocessing: Split column as list (pipe-separated)\n",
    "BioGrid_df['Chemical Name List'] = BioGrid_df['Chemical Name'].str.split('|')\n",
    "BioGrid_df['Chemical Synonyms List'] = BioGrid_df['Chemical Synonyms'].str.split('|')\n",
    "BioGrid_df['Official Symbol List'] = BioGrid_df['Official Symbol'].str.split('|')\n",
    "BioGrid_df['Synonyms List'] = BioGrid_df['Synonyms'].str.split('|')\n",
    "\n",
    "# Expand the lists: each list entry becomes a separate row (one-to-many explosion)\n",
    "df_exploded_drugs = BioGrid_df.explode('Chemical Name List').explode('Chemical Synonyms List')\n",
    "BioGrid_exploded_all = df_exploded_drugs.explode('Official Symbol List').explode('Synonyms List')\n",
    "\n",
    "# Mapping \n",
    "# Match, if hits for gene and drug in the corresponding columns\n",
    "drug_set = set(drug_list)\n",
    "gene_set = set(gene_list)\n",
    "\n",
    "# Create boolean masks for rows that match known drugs or their synonyms\n",
    "# Drug with Chemical Name List and Chemical Synonyms List\n",
    "drug_mask = (\n",
    "    BioGrid_exploded_all['Chemical Name List'].isin(drug_set) |\n",
    "    BioGrid_exploded_all['Chemical Synonyms List'].isin(drug_set)\n",
    ")\n",
    "\n",
    "# Create boolean masks for rows that match known drugs or their synonyms\n",
    "# Gene with Official Symbol List and and Synonyms List\n",
    "gene_mask = (\n",
    "    BioGrid_exploded_all['Official Symbol List'].isin(gene_set) |\n",
    "    BioGrid_exploded_all['Synonyms List'].isin(gene_set)\n",
    ")\n",
    "\n",
    "# Filter rows where both drug and gene match\n",
    "BioGrid_final = BioGrid_exploded_all[drug_mask & gene_mask].copy()\n",
    "\n"
   ]
  },
  {
   "cell_type": "code",
   "execution_count": 59,
   "id": "a088b47f",
   "metadata": {},
   "outputs": [],
   "source": [
    "\n",
    "# Issue: Rows may contain multiple matches; we need clear 1:1 mapping for gene–drug pairs\n",
    "# Solution: Determine the exact matching name (original or synonym) for each gene and drug\n",
    "\n",
    "# Resolve drug name: prefer official name, fallback to synonym\n",
    "BioGrid_final['drug_name'] = np.where(\n",
    "    BioGrid_final['Chemical Name List'].isin(drug_set),\n",
    "    BioGrid_final['Chemical Name List'],\n",
    "    np.where(\n",
    "        BioGrid_final['Chemical Synonyms List'].isin(drug_set),\n",
    "        BioGrid_final['Chemical Synonyms List'],\n",
    "        None\n",
    "    )\n",
    ")\n",
    "\n",
    "# Resolve gene name: prefer official symbol, fallback to synonym\n",
    "BioGrid_final['gene_name'] = np.where(\n",
    "    BioGrid_final['Official Symbol List'].isin(gene_set),\n",
    "    BioGrid_final['Official Symbol List'],\n",
    "    np.where(\n",
    "        BioGrid_final['Synonyms List'].isin(gene_set),\n",
    "        BioGrid_final['Synonyms List'],\n",
    "        None\n",
    "    )\n",
    ")\n",
    "\n",
    "BioGrid_final = BioGrid_final[['gene_name', 'drug_name']].drop_duplicates()\n",
    "# Final: 129 Interactions"
   ]
  },
  {
   "cell_type": "code",
   "execution_count": 60,
   "id": "9ad6d550",
   "metadata": {},
   "outputs": [],
   "source": [
    "BioGrid_final.to_csv(\"./results/DGI/BioGrid.csv\", index=0)"
   ]
  },
  {
   "cell_type": "markdown",
   "id": "f73a4058",
   "metadata": {},
   "source": [
    "### 1.4 PharmaGKB"
   ]
  },
  {
   "cell_type": "code",
   "execution_count": null,
   "id": "db4b8efd",
   "metadata": {},
   "outputs": [],
   "source": [
    "# Download clinicalAnnotations.zip (https://www.pharmgkb.org/downloads)\n",
    "\n",
    "from zipfile import ZipFile\n",
    "import os\n",
    "\n",
    "# Download relationship file from zip file\n",
    "with ZipFile(\"raw_data/relationships.zip\") as file: \n",
    "    file.extract(\"relationships.tsv\", path=\"raw_data\")\n",
    "# Delete zip file\n",
    "os.remove(\"raw_data/relationships.zip\")"
   ]
  },
  {
   "cell_type": "code",
   "execution_count": null,
   "id": "191e8fcb",
   "metadata": {},
   "outputs": [],
   "source": [
    "Pharma_relationships = pd.read_csv(\"raw_data/relationships.tsv\", compression='zip') \n",
    "Pharma_relationships = Pharma_relationships[['Entity1_name', 'Entity2_name']]\n",
    "Pharma_relationships['Entity2_name'] = Pharma_relationships['Entity2_name'].str.capitalize()\n",
    "\n",
    "# Filters PharmaGKB drug-gene interactions matching the gene and drug list of TUGDA\n",
    "Pharma_relationships = Pharma_relationships.rename(columns={'Entity1_name': 'gene_name', 'Entity2_name': 'drug_name'})\n",
    "Pharma_relationships = Pharma_relationships[Pharma_relationships['gene_name'].isin(gene_list)]\n",
    "Pharma_final = Pharma_relationships[Pharma_relationships['drug_name'].isin(drug_list)]\n",
    "Pharma_final = Pharma_final.drop_duplicates()\n",
    "# 284 Interactions"
   ]
  },
  {
   "cell_type": "code",
   "execution_count": 21,
   "id": "28fa6b90",
   "metadata": {},
   "outputs": [],
   "source": [
    "Pharma_final.to_csv(\"./results/DGI/Pharma.csv\", index=0)"
   ]
  },
  {
   "cell_type": "markdown",
   "id": "1f4087c2",
   "metadata": {},
   "source": [
    "### 1.5 CTD"
   ]
  },
  {
   "cell_type": "code",
   "execution_count": 4,
   "id": "b9b99734",
   "metadata": {},
   "outputs": [],
   "source": [
    "# Download the file from the \"Chemical-gene-interactions\" section at: https://ctdbase.org/downloads/\n",
    "# Define all column names as specified under the \"Fields\" section of the Chemical-Gene Interactions file\n",
    "column_names = [\n",
    "    \"ChemicalName\",\n",
    "    \"ChemicalID\",\n",
    "    \"CasRN\",\n",
    "    \"GeneSymbol\",\n",
    "    \"GeneID\",\n",
    "    \"GeneForms\",\n",
    "    \"Organism\",\n",
    "    \"OrganismID\",\n",
    "    \"Interaction\",\n",
    "    \"InteractionActions\",\n",
    "    \"PubMedIDs\"\n",
    "]\n",
    "\n",
    "# Load the CTD chemical-gene interaction data, skipping comment lines and assigning column names\n",
    "CTD = pd.read_csv(\"raw_data/CTD_chem_gene_ixns.csv.gz\",comment=\"#\",names=column_names)\n",
    "\n",
    "# Rename columns for clarity and consistency with downstream analysis\n",
    "CTD = CTD.rename(columns={'GeneSymbol': 'gene_name', 'ChemicalName': 'drug_name'})"
   ]
  },
  {
   "cell_type": "code",
   "execution_count": 23,
   "id": "412e54f4",
   "metadata": {},
   "outputs": [],
   "source": [
    "# Filters CTD drug-gene interactions for human-specific entries matching the gene and drug list of TUGDA\n",
    "# returning unique drug-gene pairs\n",
    "CTD = CTD[['drug_name','gene_name', 'Organism']]\n",
    "CTD = CTD[CTD['Organism'] == 'Homo sapiens']\n",
    "CTD = CTD[CTD['gene_name'].isin(gene_list)]\n",
    "CTD = CTD[CTD['drug_name'].isin(drug_list)]\n",
    "CTD_final = CTD[['drug_name','gene_name']].drop_duplicates()\n",
    "# Number of interactions: 6500"
   ]
  },
  {
   "cell_type": "code",
   "execution_count": 24,
   "id": "d324840f",
   "metadata": {},
   "outputs": [],
   "source": [
    "CTD_final.to_csv(\"./results/DGI/CTD.csv\", index=0)"
   ]
  },
  {
   "cell_type": "markdown",
   "id": "3c46c038",
   "metadata": {},
   "source": [
    "### 1.6 Convert all databases together"
   ]
  },
  {
   "cell_type": "code",
   "execution_count": 276,
   "id": "ee516169",
   "metadata": {},
   "outputs": [],
   "source": [
    "dfs = {\n",
    "    \"DGIdb\": dgidb_final,\n",
    "    \"ChEMBL\": chembl_final,\n",
    "    \"BioGrid\": BioGrid_final,\n",
    "    \"PharmaGKB\": Pharma_final,\n",
    "    \"CTD\": CTD_final\n",
    "}\n",
    "\n",
    "# New list with DataFrames, each gets a “database” column\n",
    "df_list = []\n",
    "for name, df in dfs.items():\n",
    "    df_copy = df.copy()\n",
    "    df_copy[\"database\"] = name\n",
    "    df_list.append(df_copy)\n",
    "\n",
    "# Convert them\n",
    "final_all_DGI = pd.concat(df_list, ignore_index=True)\n"
   ]
  },
  {
   "cell_type": "code",
   "execution_count": 277,
   "id": "465422fd",
   "metadata": {},
   "outputs": [],
   "source": [
    "# Combine all duplicates with the same gene_name and drug_name into one entry\n",
    "final_all_DGI = (\n",
    "    final_all_DGI\n",
    "    .groupby([\"gene_name\", \"drug_name\"]) # remove the duplicates so that each unique entry (gene_name, drug_name) entry occurs only once\n",
    "    .agg({\n",
    "        \"database\": lambda x: \", \".join(sorted(set(x))), # in the \"database\" column, list all participating databases separated by commas\n",
    "    })\n",
    "    .reset_index()\n",
    ")"
   ]
  },
  {
   "cell_type": "code",
   "execution_count": 278,
   "id": "cd139dfd",
   "metadata": {},
   "outputs": [],
   "source": [
    "final_all_DGI.to_csv(\"./results/DGI/DGI_Final.csv\")"
   ]
  },
  {
   "cell_type": "markdown",
   "id": "df7ffe07",
   "metadata": {},
   "source": [
    "### 1.7 Analysis"
   ]
  },
  {
   "cell_type": "code",
   "execution_count": 279,
   "id": "fcea3d61",
   "metadata": {},
   "outputs": [
    {
     "name": "stdout",
     "output_type": "stream",
     "text": [
      "\n",
      "=============================================\n",
      "1.) How many interactions per database?\n",
      "\n",
      "   - DGIdb: 1516 pairs\n",
      "   - ChEMBL: 18622 pairs\n",
      "   - BioGrid: 129 pairs\n",
      "   - PharmaGKB: 284 pairs\n",
      "   - CTD: 6500 pairs\n",
      "\n",
      "=============================================\n",
      "2.) Total Drug–Gene Interactions: 25388\n",
      "=============================================\n",
      "3.) Overlapping Drug–Gene Interactions: 1392\n",
      "=============================================\n",
      "4.) Overlap with TUGDA Input\n",
      "\n",
      "   - Drugs: 176 of 200 matched (88.00%)\n",
      "   - Genes: 1636 of 1780 matched (91.91%)\n",
      "=============================================\n",
      "\n"
     ]
    }
   ],
   "source": [
    "# Final check for consistency between DGI data and TUGDA input\n",
    "\n",
    "# How many interactions per database?\n",
    "print(\"\\n\" + \"=\"*45)\n",
    "print(\"1.) How many interactions per database?\\n\")\n",
    "for name, df in dfs.items():\n",
    "    print(f\"   - {name:}: {len(df):} pairs\")\n",
    "\n",
    "# Total Interactions \n",
    "print(\"\\n\" + \"=\"*45)\n",
    "print(f\"2.) Total Drug–Gene Interactions: {len(final_all_DGI)}\")\n",
    "print(\"=\"*45)\n",
    "\n",
    "# Overlapping between the databases\n",
    "\n",
    "# Filter use rows with comma in 'databases'\n",
    "combi = final_all_DGI[final_all_DGI['database'].str.contains(',')]\n",
    "counts = combi['database'].value_counts()\n",
    "print(f\"3.) Overlapping Drug–Gene Interactions: {counts.sum()}\")\n",
    "print(\"=\"*45)\n",
    "\n",
    "# Missing genes and drugs (Overlap with TUGDA Input)\n",
    "# Check overlap in drugs\n",
    "print(\"4.) Overlap with TUGDA Input\\n\")\n",
    "\n",
    "drugs_final_dgi = set(final_all_DGI['drug_name'].dropna().unique())\n",
    "drugs_TUGDA = set(drug_list)\n",
    "drugs_common = drugs_final_dgi & drugs_TUGDA\n",
    "\n",
    "percent_drugs = len(drugs_common) / len(drugs_TUGDA) * 100 if drugs_TUGDA else 0\n",
    "print(f\"   - Drugs: {len(drugs_common)} of {len(drugs_TUGDA)} matched ({percent_drugs:.2f}%)\") # 176 of 200 common genes (88%)\n",
    "\n",
    "# Check overlap in genes\n",
    "genes_final_dgi = set(final_all_DGI['gene_name'].dropna().unique())\n",
    "genes_TUGDA = set(gene_list)\n",
    "genes_common = genes_final_dgi & genes_TUGDA\n",
    "percent_genes = len(genes_common) / len(genes_TUGDA) * 100 if genes_TUGDA else 0\n",
    "print(f\"   - Genes: {len(genes_common)} of {len(genes_TUGDA)} matched ({percent_genes:.2f}%)\") # 1636 of 1780 common genes (91,91%)\n",
    "print(\"=\"*45 + \"\\n\")\n",
    "\n"
   ]
  },
  {
   "cell_type": "markdown",
   "id": "735a595e",
   "metadata": {},
   "source": [
    "### 1.8 Matrix"
   ]
  },
  {
   "cell_type": "code",
   "execution_count": 280,
   "id": "757a8d4e",
   "metadata": {},
   "outputs": [],
   "source": [
    "# define setup of TUGDA\n",
    "gene_list = list(gene_list)\n",
    "drug_list = list(drug_list)\n",
    "\n",
    "# Build an interaction matrix initialized with zeros, with genes as rows and drugs as columns\n",
    "interaction_matrix_DGI = pd.DataFrame(0, index=gene_list, columns=drug_list)\n",
    "\n",
    "# Iterate over the filtered DataFrame to mark interactions with 1\n",
    "for _, row in final_all_DGI.iterrows():\n",
    "    gene = row['gene_name']\n",
    "    drug = row['drug_name']\n",
    "\n",
    "    # Only consider interactions where both gene and drug are in the predefined lists\n",
    "    if gene in gene_list and drug in drug_list:\n",
    "        interaction_matrix_DGI.at[gene, drug] = 1\n",
    "\n",
    "# Transpose the matrix so that drugs become rows and genes become columns\n",
    "interaction_matrix_DGI = interaction_matrix_DGI.T"
   ]
  },
  {
   "cell_type": "code",
   "execution_count": 281,
   "id": "0ab490e6",
   "metadata": {},
   "outputs": [],
   "source": [
    "interaction_matrix_DGI.to_csv(\"./results/DGI/DGI_binary_matrix.csv\")"
   ]
  },
  {
   "cell_type": "markdown",
   "id": "ff1ab1a4",
   "metadata": {},
   "source": [
    "# 2. Protein-Protein-Interactions (PPI)"
   ]
  },
  {
   "cell_type": "code",
   "execution_count": null,
   "id": "19418c81",
   "metadata": {},
   "outputs": [],
   "source": [
    "gene_name = pd.read_csv(\"./data/heterogeneous_network/protein2gene.csv\", sep='\\t')\n",
    "ppi = pd.read_csv(\"./data/heterogeneous_network/9606.protein.links.v12.0.txt\", sep=\" \")\n",
    "\n",
    "# Mapping \n",
    "ppi[\"protein1\"] = ppi[\"protein1\"].str.replace(\"9606.\", \"\", regex=False)\n",
    "ppi[\"protein2\"] = ppi[\"protein2\"].str.replace(\"9606.\", \"\", regex=False)\n",
    "\n",
    "# Umbenennen zur Vorbereitung fürs Joinen\n",
    "gene_name = gene_name.rename(columns={\"protein_ENSP\": \"protein\", \"gene name\": \"gene\"})\n",
    "\n",
    "# Merge für protein1\n",
    "ppi = ppi.merge(gene_name, how=\"left\", left_on=\"protein1\", right_on=\"protein\")\n",
    "ppi = ppi.rename(columns={\"gene\": \"source\"})\n",
    "ppi = ppi.drop(columns=[\"protein\"])  # doppelte Spalte entfernen\n",
    "\n",
    "# Merge für protein2\n",
    "ppi = ppi.merge(gene_name, how=\"left\", left_on=\"protein2\", right_on=\"protein\")\n",
    "ppi = ppi.rename(columns={\"gene\": \"target\"})\n",
    "ppi = ppi.drop(columns=[\"protein\"])"
   ]
  },
  {
   "cell_type": "code",
   "execution_count": 16,
   "id": "3d5d604d",
   "metadata": {},
   "outputs": [
    {
     "data": {
      "text/html": [
       "<div>\n",
       "<style scoped>\n",
       "    .dataframe tbody tr th:only-of-type {\n",
       "        vertical-align: middle;\n",
       "    }\n",
       "\n",
       "    .dataframe tbody tr th {\n",
       "        vertical-align: top;\n",
       "    }\n",
       "\n",
       "    .dataframe thead th {\n",
       "        text-align: right;\n",
       "    }\n",
       "</style>\n",
       "<table border=\"1\" class=\"dataframe\">\n",
       "  <thead>\n",
       "    <tr style=\"text-align: right;\">\n",
       "      <th></th>\n",
       "      <th>protein1</th>\n",
       "      <th>protein2</th>\n",
       "      <th>combined_score</th>\n",
       "      <th>source</th>\n",
       "      <th>target</th>\n",
       "    </tr>\n",
       "  </thead>\n",
       "  <tbody>\n",
       "    <tr>\n",
       "      <th>0</th>\n",
       "      <td>ENSP00000000233</td>\n",
       "      <td>ENSP00000356607</td>\n",
       "      <td>173</td>\n",
       "      <td>ARF5</td>\n",
       "      <td>RALGPS2</td>\n",
       "    </tr>\n",
       "    <tr>\n",
       "      <th>1</th>\n",
       "      <td>ENSP00000000233</td>\n",
       "      <td>ENSP00000427567</td>\n",
       "      <td>154</td>\n",
       "      <td>ARF5</td>\n",
       "      <td>FHDC1</td>\n",
       "    </tr>\n",
       "    <tr>\n",
       "      <th>2</th>\n",
       "      <td>ENSP00000000233</td>\n",
       "      <td>ENSP00000253413</td>\n",
       "      <td>151</td>\n",
       "      <td>ARF5</td>\n",
       "      <td>ATP6V1E1</td>\n",
       "    </tr>\n",
       "    <tr>\n",
       "      <th>3</th>\n",
       "      <td>ENSP00000000233</td>\n",
       "      <td>ENSP00000493357</td>\n",
       "      <td>471</td>\n",
       "      <td>ARF5</td>\n",
       "      <td>Not Found</td>\n",
       "    </tr>\n",
       "    <tr>\n",
       "      <th>4</th>\n",
       "      <td>ENSP00000000233</td>\n",
       "      <td>ENSP00000324127</td>\n",
       "      <td>201</td>\n",
       "      <td>ARF5</td>\n",
       "      <td>PSD3</td>\n",
       "    </tr>\n",
       "    <tr>\n",
       "      <th>...</th>\n",
       "      <td>...</td>\n",
       "      <td>...</td>\n",
       "      <td>...</td>\n",
       "      <td>...</td>\n",
       "      <td>...</td>\n",
       "    </tr>\n",
       "    <tr>\n",
       "      <th>13715399</th>\n",
       "      <td>ENSP00000501317</td>\n",
       "      <td>ENSP00000475489</td>\n",
       "      <td>195</td>\n",
       "      <td>Not Found</td>\n",
       "      <td>Not Found</td>\n",
       "    </tr>\n",
       "    <tr>\n",
       "      <th>13715400</th>\n",
       "      <td>ENSP00000501317</td>\n",
       "      <td>ENSP00000370447</td>\n",
       "      <td>158</td>\n",
       "      <td>Not Found</td>\n",
       "      <td>VCX</td>\n",
       "    </tr>\n",
       "    <tr>\n",
       "      <th>13715401</th>\n",
       "      <td>ENSP00000501317</td>\n",
       "      <td>ENSP00000312272</td>\n",
       "      <td>226</td>\n",
       "      <td>Not Found</td>\n",
       "      <td>YPEL2</td>\n",
       "    </tr>\n",
       "    <tr>\n",
       "      <th>13715402</th>\n",
       "      <td>ENSP00000501317</td>\n",
       "      <td>ENSP00000402092</td>\n",
       "      <td>169</td>\n",
       "      <td>Not Found</td>\n",
       "      <td>SAMD3</td>\n",
       "    </tr>\n",
       "    <tr>\n",
       "      <th>13715403</th>\n",
       "      <td>ENSP00000501317</td>\n",
       "      <td>ENSP00000404074</td>\n",
       "      <td>251</td>\n",
       "      <td>Not Found</td>\n",
       "      <td>ZNF193</td>\n",
       "    </tr>\n",
       "  </tbody>\n",
       "</table>\n",
       "<p>13715404 rows × 5 columns</p>\n",
       "</div>"
      ],
      "text/plain": [
       "                 protein1         protein2  combined_score     source  \\\n",
       "0         ENSP00000000233  ENSP00000356607             173       ARF5   \n",
       "1         ENSP00000000233  ENSP00000427567             154       ARF5   \n",
       "2         ENSP00000000233  ENSP00000253413             151       ARF5   \n",
       "3         ENSP00000000233  ENSP00000493357             471       ARF5   \n",
       "4         ENSP00000000233  ENSP00000324127             201       ARF5   \n",
       "...                   ...              ...             ...        ...   \n",
       "13715399  ENSP00000501317  ENSP00000475489             195  Not Found   \n",
       "13715400  ENSP00000501317  ENSP00000370447             158  Not Found   \n",
       "13715401  ENSP00000501317  ENSP00000312272             226  Not Found   \n",
       "13715402  ENSP00000501317  ENSP00000402092             169  Not Found   \n",
       "13715403  ENSP00000501317  ENSP00000404074             251  Not Found   \n",
       "\n",
       "             target  \n",
       "0           RALGPS2  \n",
       "1             FHDC1  \n",
       "2          ATP6V1E1  \n",
       "3         Not Found  \n",
       "4              PSD3  \n",
       "...             ...  \n",
       "13715399  Not Found  \n",
       "13715400        VCX  \n",
       "13715401      YPEL2  \n",
       "13715402      SAMD3  \n",
       "13715403     ZNF193  \n",
       "\n",
       "[13715404 rows x 5 columns]"
      ]
     },
     "execution_count": 16,
     "metadata": {},
     "output_type": "execute_result"
    }
   ],
   "source": [
    "ppi"
   ]
  },
  {
   "cell_type": "code",
   "execution_count": 23,
   "id": "f959ea40",
   "metadata": {},
   "outputs": [],
   "source": [
    "ppi = ppi[[\"source\", \"target\"]]\n",
    "\n",
    "mask = (ppi['source'] != 'Not Found') & (ppi['target'] != 'Not Found')\n",
    "final_ppi_String = ppi[mask]"
   ]
  },
  {
   "cell_type": "code",
   "execution_count": 24,
   "id": "41a6336b",
   "metadata": {},
   "outputs": [],
   "source": [
    "final_ppi_String.to_csv(\"./results/PPI/final_PPI_String.csv\")"
   ]
  },
  {
   "cell_type": "markdown",
   "id": "b6da3bf0",
   "metadata": {},
   "source": [
    "### Missings"
   ]
  },
  {
   "cell_type": "markdown",
   "id": "bb03278b",
   "metadata": {},
   "source": [
    "- bei protein1/source: 2647 Interaktionen gehen verloren durch \"Not found\"\n",
    "- bei protein2/target: 2647 Interaktionen gehen verloren durch \"Not found\"\n",
    "- Schnittmenge: 2647 unique Interaktionen gehen verloren"
   ]
  },
  {
   "cell_type": "code",
   "execution_count": 21,
   "id": "f404d0c9",
   "metadata": {},
   "outputs": [],
   "source": [
    "filtered_df_target = ppi[ppi['target'] == 'Not Found']\n",
    "unique_combinations_target = filtered_df_target[['protein2', 'target']].drop_duplicates()\n",
    "\n",
    "filtered_df_source = ppi[ppi['source'] == 'Not Found']\n",
    "unique_combinations_source = filtered_df_source[['protein1', 'source']].drop_duplicates()"
   ]
  },
  {
   "cell_type": "code",
   "execution_count": 22,
   "id": "0332f7be",
   "metadata": {},
   "outputs": [
    {
     "name": "stdout",
     "output_type": "stream",
     "text": [
      "0       ENSP00000450436\n",
      "1       ENSP00000450444\n",
      "2       ENSP00000450456\n",
      "3       ENSP00000450461\n",
      "4       ENSP00000450480\n",
      "             ...       \n",
      "2642    ENSP00000501254\n",
      "2643    ENSP00000501259\n",
      "2644    ENSP00000501265\n",
      "2645    ENSP00000501277\n",
      "2646    ENSP00000501317\n",
      "Length: 2647, dtype: object\n"
     ]
    }
   ],
   "source": [
    "unique_proteins_from_source = filtered_df_source['protein1'].drop_duplicates()\n",
    "unique_proteins_from_target = filtered_df_target['protein2'].drop_duplicates()\n",
    "\n",
    "# 4. Zusammenführen der einzigartigen Proteine aus beiden Spalten:\n",
    "all_unique_proteins = pd.concat([\n",
    "    unique_proteins_from_source,\n",
    "    unique_proteins_from_target\n",
    "]).drop_duplicates().reset_index(drop=True)\n",
    "print(all_unique_proteins)"
   ]
  }
 ],
 "metadata": {
  "kernelspec": {
   "display_name": "Python 3",
   "language": "python",
   "name": "python3"
  },
  "language_info": {
   "codemirror_mode": {
    "name": "ipython",
    "version": 3
   },
   "file_extension": ".py",
   "mimetype": "text/x-python",
   "name": "python",
   "nbconvert_exporter": "python",
   "pygments_lexer": "ipython3",
   "version": "3.12.3"
  }
 },
 "nbformat": 4,
 "nbformat_minor": 5
}
